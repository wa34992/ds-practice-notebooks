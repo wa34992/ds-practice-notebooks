{
 "cells": [
  {
   "cell_type": "markdown",
   "id": "cd3ed9e8-9886-45d3-a3c8-6e4273bfef0e",
   "metadata": {
    "tags": []
   },
   "source": [
    "# Data Science Tools and Ecosystem\n"
   ]
  },
  {
   "cell_type": "markdown",
   "id": "3b9e4174-1760-4ad2-bea4-0174190e6701",
   "metadata": {
    "tags": []
   },
   "source": [
    "## In this notebook, Data Science Tools and Ecosystem are summarized."
   ]
  },
  {
   "cell_type": "markdown",
   "id": "cd2928f1-c395-47b9-9a2e-d307979d11ed",
   "metadata": {},
   "source": [
    "**Objectives:**\n",
    "* List popular languages for Data Science.\n",
    "* List of data science tools used by data scientists.\n",
    "* Some of the commonly used libraries by data sientists.\n",
    "* Evaluating arithmetic expressiions."
   ]
  },
  {
   "cell_type": "markdown",
   "id": "21bba233-bf57-43eb-a81e-6785cf55312d",
   "metadata": {},
   "source": [
    "### Some of the popular languages that Data Scientists use are:\n",
    "1. Python\n",
    "2. R\n",
    "3. Scala\n",
    "4. Julia"
   ]
  },
  {
   "cell_type": "markdown",
   "id": "504b1cbc-b0f6-4bbc-a491-b54f61503c9b",
   "metadata": {},
   "source": [
    "### Some of the commonly used libraries used by Data Scientists include:\n",
    "1. Pandas\n",
    "2. ggplot\n",
    "3. seaborn\n",
    "4. pyplotlib\n",
    "5. Scipy\n",
    "6. Numpy"
   ]
  },
  {
   "cell_type": "markdown",
   "id": "3c9720cf-f17f-413a-95ea-7a0ea133bcf6",
   "metadata": {
    "tags": []
   },
   "source": [
    "| Data Science Tools |\n",
    "| ------------------ |\n",
    "|  Jupyter Notebook  |\n",
    "|  Jupyter Lab       |\n",
    "|  R studio          |"
   ]
  },
  {
   "cell_type": "markdown",
   "id": "0cb780e7-0d8c-45eb-9b05-63cc2b2c760a",
   "metadata": {},
   "source": [
    "### Below are a few examples of evaluating arithmetic expressions in Python."
   ]
  },
  {
   "cell_type": "code",
   "execution_count": 4,
   "id": "d7e79df4-ec4e-479b-bc60-c494ef68c056",
   "metadata": {
    "tags": []
   },
   "outputs": [
    {
     "data": {
      "text/plain": [
       "17"
      ]
     },
     "execution_count": 4,
     "metadata": {},
     "output_type": "execute_result"
    }
   ],
   "source": [
    "# This a simple arithmetic expression to mutiply then add integers\n",
    "(3*4)+5"
   ]
  },
  {
   "cell_type": "code",
   "execution_count": 6,
   "id": "e2d35a11-22a7-4bc8-8bea-07bbc7c36a0b",
   "metadata": {
    "tags": []
   },
   "outputs": [
    {
     "data": {
      "text/plain": [
       "3.3333333333333335"
      ]
     },
     "execution_count": 6,
     "metadata": {},
     "output_type": "execute_result"
    }
   ],
   "source": [
    "# his will convert 200 minutes to hours by diving by 60\n",
    "200/60"
   ]
  },
  {
   "cell_type": "markdown",
   "id": "019ee20f-cb20-4481-812d-b0e7eb6d1768",
   "metadata": {},
   "source": [
    "## Author\n",
    "Waqas Ahmed"
   ]
  }
 ],
 "metadata": {
  "kernelspec": {
   "display_name": "Python 3 (ipykernel)",
   "language": "python",
   "name": "python3"
  },
  "language_info": {
   "codemirror_mode": {
    "name": "ipython",
    "version": 3
   },
   "file_extension": ".py",
   "mimetype": "text/x-python",
   "name": "python",
   "nbconvert_exporter": "python",
   "pygments_lexer": "ipython3",
   "version": "3.11.5"
  }
 },
 "nbformat": 4,
 "nbformat_minor": 5
}
